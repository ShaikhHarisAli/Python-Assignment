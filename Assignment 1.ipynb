{
 "cells": [
  {
   "cell_type": "code",
   "execution_count": 4,
   "metadata": {},
   "outputs": [
    {
     "name": "stdout",
     "output_type": "stream",
     "text": [
      "Twinkle, twinkle, little star ,\n",
      "\t How I wonder what you are!, \n",
      "\t\t Up above the world so high,\n",
      "\t\t Like a diamond in the Sky,\n",
      "Twinkle, twinkle, little star,\n",
      "\t How I wonder What you are!\n"
     ]
    }
   ],
   "source": [
    "#1. Write a Python program to print the following string in a specific format\n",
    "print(\"Twinkle, twinkle, little star ,\\n\\t How I wonder what you are!, \\n\\t\\t Up above the world so high,\\n\\t\\t Like a diamond in the Sky,\\nTwinkle, twinkle, little star,\\n\\t How I wonder What you are!\")"
   ]
  },
  {
   "cell_type": "code",
   "execution_count": 6,
   "metadata": {},
   "outputs": [
    {
     "name": "stdout",
     "output_type": "stream",
     "text": [
      "PYTHON VERSION\n",
      "3.7.3 (default, Mar 27 2019, 17:13:21) [MSC v.1915 64 bit (AMD64)]\n",
      "VERSION INFO\n",
      "sys.version_info(major=3, minor=7, micro=3, releaselevel='final', serial=0)\n"
     ]
    }
   ],
   "source": [
    "#2. Write a Python program to get the Python version you are using\n",
    "import sys\n",
    "print(\"PYTHON VERSION\")\n",
    "print(sys.version)\n",
    "print(\"VERSION INFO\")\n",
    "print (sys.version_info)"
   ]
  },
  {
   "cell_type": "code",
   "execution_count": 1,
   "metadata": {},
   "outputs": [
    {
     "name": "stdout",
     "output_type": "stream",
     "text": [
      "Current date and time : \n",
      "2019-11-02 01:19:59\n"
     ]
    }
   ],
   "source": [
    "#3. Write a Python program to display the current date and time.\n",
    "import datetime\n",
    "now = datetime.datetime.now()\n",
    "print (\"Current date and time : \")\n",
    "print (now.strftime(\"%Y-%m-%d %H:%M:%S\"))"
   ]
  },
  {
   "cell_type": "code",
   "execution_count": 2,
   "metadata": {},
   "outputs": [
    {
     "name": "stdout",
     "output_type": "stream",
     "text": [
      "INPUT RADIUS OF CIRCLE : 2\n",
      "THE AREA OF THE CIRCLE WITH RADIUS 2.0 is 12.566370614359172\n"
     ]
    }
   ],
   "source": [
    "#Write a Python program which accepts the radius of a circle from the user and compute the area.\n",
    "from math import pi;\n",
    "r=float(input(\"INPUT RADIUS OF CIRCLE : \"))\n",
    "x= (pi * r**2);\n",
    "print(\"THE AREA OF THE CIRCLE WITH RADIUS \"+str(r)+\" is \"+str(x)) "
   ]
  },
  {
   "cell_type": "code",
   "execution_count": 3,
   "metadata": {},
   "outputs": [
    {
     "name": "stdout",
     "output_type": "stream",
     "text": [
      " Ali Shaikh Haris\n"
     ]
    }
   ],
   "source": [
    "#5. Write a Python program which accepts the user's first and last name and print them in reverse order with a space between them.\n",
    "first_name= \"Shaikh Haris\"\n",
    "last_name=\" Ali \"\n",
    "full_name= last_name + first_name;\n",
    "print(full_name)"
   ]
  },
  {
   "cell_type": "code",
   "execution_count": 4,
   "metadata": {},
   "outputs": [
    {
     "name": "stdout",
     "output_type": "stream",
     "text": [
      "Input some comma seprated numbers : 1,2,3,4,5\n",
      "list ['1', '2', '3', '4', '5']\n",
      "tuple ('1', '2', '3', '4', '5')\n"
     ]
    }
   ],
   "source": [
    "values = input(\"Input some comma seprated numbers : \")\n",
    "list=values.split(\",\")\n",
    "tuple=tuple(list)\n",
    "print('list',list)\n",
    "print('tuple',tuple)"
   ]
  },
  {
   "cell_type": "code",
   "execution_count": 1,
   "metadata": {},
   "outputs": [
    {
     "name": "stdout",
     "output_type": "stream",
     "text": [
      "enter percentage %25\n",
      "Fail\n",
      "REMARKS:NEED HARDWORK\n"
     ]
    }
   ],
   "source": [
    "#MARKSHEET\n",
    "per=int(input(\"enter percentage %\"))\n",
    "if per >=80:\n",
    "    print(\"A*\")\n",
    "    print(\"REMARKS: EXCELLENT PERFORMANCE\")\n",
    "elif per >=70 and per<80:\n",
    "    print (\"A\")\n",
    "    print(\"REMARKS: BETTER PERFORMANCE\")\n",
    "elif per >=60 and per<70:\n",
    "    print (\"B\")\n",
    "    print(\"REMARKS:GOOD PERFORMANCE\")\n",
    "elif per >=50 and per<60:\n",
    "    print (\"C\")\n",
    "    print(\"REMARKS:SATISFACTORY PERFORMANCE\")\n",
    "elif per >=40 and per<50:\n",
    "    print (\"D\")\n",
    "    print(\"REMARKS:POOR PERFORMANCE\")\n",
    "elif per >=34 and per<40:\n",
    "    print (\"E\")\n",
    "    print(\"REMARKS:VERY POOR PERFORMANCE\")\n",
    "elif per<60:\n",
    "    print (\"Fail\")\n",
    "    print(\"REMARKS:NEED HARDWORK\")\n",
    "else :\n",
    "    print (\" Inappropriate %\")\n"
   ]
  },
  {
   "cell_type": "code",
   "execution_count": null,
   "metadata": {},
   "outputs": [],
   "source": [
    "\n"
   ]
  }
 ],
 "metadata": {
  "kernelspec": {
   "display_name": "Python 3",
   "language": "python",
   "name": "python3"
  }
 },
 "nbformat": 4,
 "nbformat_minor": 2
}
