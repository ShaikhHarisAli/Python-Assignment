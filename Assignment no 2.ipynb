{
 "cells": [
  {
   "cell_type": "code",
   "execution_count": 1,
   "metadata": {},
   "outputs": [
    {
     "name": "stdout",
     "output_type": "stream",
     "text": [
      "enter percentage %45\n",
      "D\n",
      "REMARKS:POOR PERFORMANCE\n"
     ]
    }
   ],
   "source": [
    "##Write a program which takes 5 inputs from user for different subject’s marks, total it and generate mark sheet using grades ?\n",
    "per=int(input(\"enter percentage %\"))\n",
    "if per >=80:\n",
    "    print(\"A*\")\n",
    "    print(\"REMARKS: EXCELLENT PERFORMANCE\")\n",
    "elif per >=70 and per<80:\n",
    "    print (\"A\")\n",
    "    print(\"REMARKS: BETTER PERFORMANCE\")\n",
    "elif per >=60 and per<70:\n",
    "    print (\"B\")\n",
    "    print(\"REMARKS:GOOD PERFORMANCE\")\n",
    "elif per >=50 and per<60:\n",
    "    print (\"C\")\n",
    "    print(\"REMARKS:SATISFACTORY PERFORMANCE\")\n",
    "elif per >=40 and per<50:\n",
    "    print (\"D\")\n",
    "    print(\"REMARKS:POOR PERFORMANCE\")\n",
    "elif per >=34 and per<40:\n",
    "    print (\"E\")\n",
    "    print(\"REMARKS:VERY POOR PERFORMANCE\")\n",
    "elif per<60:\n",
    "    print (\"Fail\")\n",
    "    print(\"REMARKS:NEED HARDWORK\")\n",
    "else :\n",
    "    print (\" Inappropriate %\")"
   ]
  },
  {
   "cell_type": "code",
   "execution_count": 2,
   "metadata": {},
   "outputs": [
    {
     "name": "stdout",
     "output_type": "stream",
     "text": [
      "Enter a number:45\n",
      "Number is odd\n"
     ]
    }
   ],
   "source": [
    "#Write a program which take input from user and identify that the given number is even or odd?\n",
    "num=input(\"Enter a number:\");\n",
    "if(int(num)%2==0):\n",
    "    print(\"Number is even\")\n",
    "else:\n",
    "    print(\"Number is odd\")\n",
    "    "
   ]
  },
  {
   "cell_type": "code",
   "execution_count": 3,
   "metadata": {},
   "outputs": [
    {
     "name": "stdout",
     "output_type": "stream",
     "text": [
      "Sum: 30\n"
     ]
    }
   ],
   "source": [
    "#Write a Python program to sum all the numeric items in a list?\n",
    "arr=[\"Ali\",10,20,\"Haider\"]\n",
    "res=sum(filter(lambda i:isinstance(i,int),arr))\n",
    "print(\"Sum:\",res)"
   ]
  },
  {
   "cell_type": "code",
   "execution_count": 4,
   "metadata": {},
   "outputs": [
    {
     "name": "stdout",
     "output_type": "stream",
     "text": [
      "Largest element is  99\n"
     ]
    }
   ],
   "source": [
    "#Write a Python program to get the largest number from a numeric list.\n",
    "arr=[10,20,33,99]\n",
    "print(\"Largest element is \",max(arr))"
   ]
  },
  {
   "cell_type": "code",
   "execution_count": 5,
   "metadata": {},
   "outputs": [
    {
     "name": "stdout",
     "output_type": "stream",
     "text": [
      "Largest element is  99\n"
     ]
    }
   ],
   "source": [
    "#Write a Python program to get the largest number from a numeric list.\n",
    "arr=[10,20,33,99]\n",
    "print(\"Largest element is \",max(arr))"
   ]
  },
  {
   "cell_type": "code",
   "execution_count": 6,
   "metadata": {},
   "outputs": [
    {
     "name": "stdout",
     "output_type": "stream",
     "text": [
      "[1, 1, 2, 3]\n"
     ]
    }
   ],
   "source": [
    "#Take a list, say for example this one:\n",
    "#   a = [1, 1, 2, 3, 5, 8, 13, 21, 34, 55, 89]\n",
    "#and write a program that prints out all the elements of the list that are less than 5.\n",
    "a = [1, 1, 2, 3, 5, 8, 13, 21, 34, 55, 89]\n",
    "\n",
    "new_list = []\n",
    "for item in a:\n",
    "    if item < 5:\n",
    "        new_list.append(item)\n",
    "print(new_list)\n"
   ]
  },
  {
   "cell_type": "code",
   "execution_count": null,
   "metadata": {},
   "outputs": [],
   "source": []
  }
 ],
 "metadata": {
  "kernelspec": {
   "display_name": "Python 3",
   "language": "python",
   "name": "python3"
  },
  "language_info": {
   "codemirror_mode": {
    "name": "ipython",
    "version": 3
   },
   "file_extension": ".py",
   "mimetype": "text/x-python",
   "name": "python",
   "nbconvert_exporter": "python",
   "pygments_lexer": "ipython3",
   "version": "3.7.3"
  }
 },
 "nbformat": 4,
 "nbformat_minor": 2
}
